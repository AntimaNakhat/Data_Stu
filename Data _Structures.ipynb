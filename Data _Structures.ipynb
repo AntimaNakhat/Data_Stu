{
 "cells": [
  {
   "cell_type": "markdown",
   "id": "0084d16d-8904-433d-b91a-d446fd0edb02",
   "metadata": {},
   "source": [
    "#  Data Structures in Python"
   ]
  },
  {
   "cell_type": "markdown",
   "id": "862d5f58-2978-4b5b-bb16-029028bbc60f",
   "metadata": {
    "tags": []
   },
   "source": [
    "## 1. Write a code to reverse a string."
   ]
  },
  {
   "cell_type": "code",
   "execution_count": 14,
   "id": "5b19f216-3d67-4cbd-9049-29cc4b5479e7",
   "metadata": {},
   "outputs": [
    {
     "name": "stdout",
     "output_type": "stream",
     "text": [
      "amitna\n"
     ]
    }
   ],
   "source": [
    "# Using Slicing\n",
    "a = \"antima\"\n",
    "rev = a[::-1]\n",
    "print(rev)"
   ]
  },
  {
   "cell_type": "code",
   "execution_count": 15,
   "id": "029a3751-1895-4c11-81ef-93b0420640c3",
   "metadata": {},
   "outputs": [
    {
     "data": {
      "text/plain": [
       "'amitna'"
      ]
     },
     "execution_count": 15,
     "metadata": {},
     "output_type": "execute_result"
    }
   ],
   "source": [
    "# Using lambda\n",
    "rev = lambda a : a[::-1]\n",
    "rev(\"antima\")"
   ]
  },
  {
   "cell_type": "code",
   "execution_count": 16,
   "id": "0fdc35c8-03f2-4608-ad01-f23b00a40170",
   "metadata": {},
   "outputs": [
    {
     "name": "stdout",
     "output_type": "stream",
     "text": [
      "amitna\n"
     ]
    }
   ],
   "source": [
    "# Using reduce()\n",
    "from functools import reduce\n",
    "\n",
    "def rev_str(a):\n",
    "    return reduce(lambda x, y: y + x, a)\n",
    "\n",
    "print(rev_str(\"antima\"))  \n"
   ]
  },
  {
   "cell_type": "code",
   "execution_count": 17,
   "id": "37602bf6-0366-414c-95bd-21b042c87015",
   "metadata": {},
   "outputs": [
    {
     "name": "stdout",
     "output_type": "stream",
     "text": [
      "amitna\n"
     ]
    }
   ],
   "source": [
    "# Using reverse() method\n",
    "def rev_str(a):\n",
    "    str_list = list(a)\n",
    "    str_list.reverse()\n",
    "    return ''.join(str_list)\n",
    "print(rev_str(\"antima\"))\n"
   ]
  },
  {
   "cell_type": "markdown",
   "id": "f95625e2-6294-4744-8a11-f48992f34d19",
   "metadata": {},
   "source": [
    "## 2. Write a code to count the number of vowels in a string"
   ]
  },
  {
   "cell_type": "code",
   "execution_count": 18,
   "id": "f2bb9a7d-58be-4dcc-ae83-8aa6164c97d4",
   "metadata": {},
   "outputs": [
    {
     "name": "stdout",
     "output_type": "stream",
     "text": [
      "3\n"
     ]
    }
   ],
   "source": [
    "# Using a loop\n",
    "\n",
    "def cou_vow(a):\n",
    "    vow = \"aeiouAEIOU\"\n",
    "    count = 0\n",
    "    for i in a:\n",
    "        if i in vow:\n",
    "            count += 1\n",
    "    return count\n",
    "print(cou_vow(\"antima\"))\n"
   ]
  },
  {
   "cell_type": "code",
   "execution_count": 19,
   "id": "72f7b423-a651-4193-9ca8-df8dbbaf6702",
   "metadata": {},
   "outputs": [
    {
     "name": "stdout",
     "output_type": "stream",
     "text": [
      "3\n"
     ]
    }
   ],
   "source": [
    "# Using list Comprehension\n",
    "\n",
    "def cou_vow(a):\n",
    "    vow = \"aeiouAEIOU\"\n",
    "    return sum(1 for i in a if i in vow)\n",
    "print(cou_vow(\"antima\"))\n",
    "    "
   ]
  },
  {
   "cell_type": "code",
   "execution_count": 20,
   "id": "0e2c97b4-6d1f-472c-99d9-89da8f923f2d",
   "metadata": {},
   "outputs": [
    {
     "name": "stdout",
     "output_type": "stream",
     "text": [
      "3\n"
     ]
    }
   ],
   "source": [
    "#Using count() Method in a Loop\n",
    "\n",
    "def cou_vow(a):\n",
    "    vow = \"aeiouAEIOU\"\n",
    "    return sum(a.count(i) for i in vow)\n",
    "print(cou_vow(\"antima\"))\n"
   ]
  },
  {
   "cell_type": "markdown",
   "id": "23f814a1-44cb-4ed7-825f-81ef08340034",
   "metadata": {},
   "source": [
    " ## 3. Write a code to check if a given string is a palindrome or not"
   ]
  },
  {
   "cell_type": "code",
   "execution_count": 21,
   "id": "f7af9834-8cbe-4375-9e90-df553c60f789",
   "metadata": {},
   "outputs": [
    {
     "name": "stdout",
     "output_type": "stream",
     "text": [
      "True\n"
     ]
    }
   ],
   "source": [
    "# Using Slicing\n",
    "\n",
    "def pal(a):\n",
    "    return a == a[::-1]\n",
    "print(pal(\"mom\"))"
   ]
  },
  {
   "cell_type": "code",
   "execution_count": 22,
   "id": "fc54364a-0391-4b5f-868a-f0c507d6b91e",
   "metadata": {},
   "outputs": [
    {
     "name": "stdout",
     "output_type": "stream",
     "text": [
      "True\n"
     ]
    }
   ],
   "source": [
    "# Using a loop\n",
    "\n",
    "def pal(a):\n",
    "    leng = len(a)\n",
    "    for i in  range (leng // 2 ):\n",
    "        if a[i] != a[leng - i -1]:\n",
    "            return False\n",
    "    return True\n",
    "print(pal(\"dad\"))     "
   ]
  },
  {
   "cell_type": "code",
   "execution_count": 23,
   "id": "d2bb82b1-6527-448a-a940-0261135e1a83",
   "metadata": {},
   "outputs": [
    {
     "name": "stdout",
     "output_type": "stream",
     "text": [
      "True\n"
     ]
    }
   ],
   "source": [
    "# Using Two-Pointer\n",
    "\n",
    "def pal(a):\n",
    "    left, right = 0, len(a) - 1\n",
    "    while left < right:\n",
    "        if a[left] != a[right]:\n",
    "            return False\n",
    "        left += 1\n",
    "        right -= 1\n",
    "    return True\n",
    "print(pal(\"radar\"))"
   ]
  },
  {
   "cell_type": "markdown",
   "id": "0550acde-840b-4678-a928-a28b761425cf",
   "metadata": {},
   "source": [
    "## 4.  Write a code to check if two given strings are anagrams of each other"
   ]
  },
  {
   "cell_type": "markdown",
   "id": "c17a8418-6b00-413b-b1bf-5272b966ea72",
   "metadata": {},
   "source": [
    "ord() function is used to get the Unicode code point of a given character. (code point is an integer that represents the character in the Unicode standard)."
   ]
  },
  {
   "cell_type": "code",
   "execution_count": 24,
   "id": "bc725210-a839-4be3-ab95-6e29a8c42cd0",
   "metadata": {},
   "outputs": [
    {
     "name": "stdout",
     "output_type": "stream",
     "text": [
      "True\n"
     ]
    }
   ],
   "source": [
    "# Using Sorting\n",
    "\n",
    "def ana(a1,a2):\n",
    "    return sorted(a1) == sorted(a2)\n",
    "print(ana(\"part\",\"trap\"))"
   ]
  },
  {
   "cell_type": "code",
   "execution_count": 14,
   "id": "1aaa34b0-4710-4cdf-b4c5-96cac5d586ad",
   "metadata": {},
   "outputs": [
    {
     "name": "stdout",
     "output_type": "stream",
     "text": [
      "True\n"
     ]
    }
   ],
   "source": [
    "#  Using Character Count Arrays\n",
    "\n",
    "def ana(a1,a2):\n",
    "    if len (a1) != len (a2):\n",
    "        return False \n",
    "    count = [0] * 256 # Assuming ASCII char\n",
    "    for i in a1:\n",
    "        count[ord(i)] += 1\n",
    "    for i in a2:\n",
    "        count[ord(i)] -= 1\n",
    "    return all(x == 0 for x in count)\n",
    "print(ana(\"heart\", \"earth\"))"
   ]
  },
  {
   "cell_type": "code",
   "execution_count": 25,
   "id": "faa6c489-8b34-477c-9c68-81d9da8e75bc",
   "metadata": {},
   "outputs": [
    {
     "name": "stdout",
     "output_type": "stream",
     "text": [
      "True\n"
     ]
    }
   ],
   "source": [
    "# Using Counters from the collections \n",
    "\n",
    "from collections import Counter\n",
    "def ana(a1,a2):\n",
    "    return Counter(a1) == Counter(a2)\n",
    "print(ana(\"knee\", \"keen\"))"
   ]
  },
  {
   "cell_type": "markdown",
   "id": "cc36c9cf-5497-450e-898d-657c6be6e0dd",
   "metadata": {},
   "source": [
    "## 5. Write a code to find all occurrences of a given substring within another string"
   ]
  },
  {
   "cell_type": "code",
   "execution_count": 26,
   "id": "b1225b5d-67d2-4922-8446-aafafd6dbf83",
   "metadata": {},
   "outputs": [
    {
     "name": "stdout",
     "output_type": "stream",
     "text": [
      "[17]\n"
     ]
    }
   ],
   "source": [
    "def occ(string, subs):\n",
    "    start = 0\n",
    "    ind = []\n",
    "    while start < len(string):\n",
    "        start = string.find(subs,start)\n",
    "        if start == -1:\n",
    "            break\n",
    "        ind.append(start)\n",
    "        start += len(subs)\n",
    "    return ind\n",
    "string = \"This is a string test\"\n",
    "subs = \"test\"\n",
    "print(occ(string,subs))\n",
    "        "
   ]
  },
  {
   "cell_type": "markdown",
   "id": "c01ded85-8e0f-4a34-b376-625eb489d82f",
   "metadata": {},
   "source": [
    "## 6. Write a code to perform basic string compression using the counts of repeated characters"
   ]
  },
  {
   "cell_type": "code",
   "execution_count": 27,
   "id": "48264e14-6cb1-463a-aabe-2f4b454731ac",
   "metadata": {},
   "outputs": [
    {
     "name": "stdout",
     "output_type": "stream",
     "text": [
      "a8n9t5i5m3a4\n"
     ]
    }
   ],
   "source": [
    "def comp(s):\n",
    "    if not s:\n",
    "        return \"\"\n",
    "    com = []\n",
    "    count = 1\n",
    "    for i in range(1, len(s)):\n",
    "        if s[i] == s[i - 1]:\n",
    "            count += 1\n",
    "        else:\n",
    "            com.append(s[i - 1] + str(count))\n",
    "            count = 1\n",
    "    com.append(s[-1]+ str(count))\n",
    "    return ''.join(com)\n",
    "string = \"aaaaaaaannnnnnnnntttttiiiiimmmaaaa\"\n",
    "print(comp(string))\n",
    "                               "
   ]
  },
  {
   "cell_type": "markdown",
   "id": "862cace6-d7c4-467b-a14c-e3ceabc5d7b3",
   "metadata": {
    "tags": []
   },
   "source": [
    "## 7.  Write a code to determine if a string has all unique characters"
   ]
  },
  {
   "cell_type": "code",
   "execution_count": 28,
   "id": "2b9f88f3-5792-42c9-905b-27ab55adaaea",
   "metadata": {},
   "outputs": [
    {
     "name": "stdout",
     "output_type": "stream",
     "text": [
      "True\n"
     ]
    }
   ],
   "source": [
    "# Using a Set\n",
    "\n",
    "def uni(s):\n",
    "    return len(s) == len(set(s))\n",
    "stri = \"abcd\"\n",
    "print(uni(stri))"
   ]
  },
  {
   "cell_type": "code",
   "execution_count": 29,
   "id": "57d7c28a-509f-458b-8f5e-292bd4827a9b",
   "metadata": {},
   "outputs": [
    {
     "name": "stdout",
     "output_type": "stream",
     "text": [
      "True\n"
     ]
    }
   ],
   "source": [
    "# Using Bool Array\n",
    "\n",
    "def uni(s):\n",
    "    if len(s) > 256:\n",
    "        return False\n",
    "    \n",
    "    char = [False]*256\n",
    "    for i in s :\n",
    "        if char [ord(i)]:\n",
    "            return False\n",
    "        char[ord(i)] = True\n",
    "    return True\n",
    "stri = \"abcd\"\n",
    "print(uni(stri))"
   ]
  },
  {
   "cell_type": "markdown",
   "id": "1a920f93-aff2-43f9-a73a-d74573e54b74",
   "metadata": {},
   "source": [
    "## 8. Write a code to convert a given string to uppercase or lowercase"
   ]
  },
  {
   "cell_type": "code",
   "execution_count": 30,
   "id": "decc54b7-71ed-4197-897b-a3a87b5f51f9",
   "metadata": {},
   "outputs": [
    {
     "name": "stdout",
     "output_type": "stream",
     "text": [
      "ANTIMA\n",
      "nakhat\n"
     ]
    }
   ],
   "source": [
    "# Using upper() and lower()\n",
    "\n",
    "def su(s):\n",
    "    return str.upper(s)\n",
    "\n",
    "def sl(s):\n",
    "    return str.lower(s)\n",
    "\n",
    "print(su(\"antima\"))\n",
    "print(sl(\"NAKHAT\"))"
   ]
  },
  {
   "cell_type": "code",
   "execution_count": 31,
   "id": "746fdc36-7aa2-4acd-af15-cd768f9deb35",
   "metadata": {},
   "outputs": [
    {
     "name": "stdout",
     "output_type": "stream",
     "text": [
      "ANTIMA nakhat\n"
     ]
    }
   ],
   "source": [
    "# Using swapcase()\n",
    "\n",
    "def conv(s):\n",
    "    return s.swapcase()\n",
    "stri = \"antima NAKHAT\"\n",
    "print(conv(stri))"
   ]
  },
  {
   "cell_type": "markdown",
   "id": "31339387-6647-42bf-9a08-a25960e28366",
   "metadata": {},
   "source": [
    "## 9. Write a code to count the number of words in a string"
   ]
  },
  {
   "cell_type": "code",
   "execution_count": 32,
   "id": "228bd718-412d-4787-b639-d99968ea6d87",
   "metadata": {},
   "outputs": [
    {
     "name": "stdout",
     "output_type": "stream",
     "text": [
      "5\n"
     ]
    }
   ],
   "source": [
    "# Using split()\n",
    "\n",
    "def countw(s):\n",
    "    word = s.split()\n",
    "    return len(word)\n",
    "stri = \"Hello guys, how are you\"\n",
    "print(countw(stri))"
   ]
  },
  {
   "cell_type": "code",
   "execution_count": 33,
   "id": "b2960ebc-561f-4ded-b3ed-6532383c4720",
   "metadata": {},
   "outputs": [
    {
     "name": "stdout",
     "output_type": "stream",
     "text": [
      "5\n"
     ]
    }
   ],
   "source": [
    "# Using a loop\n",
    "\n",
    "def countw(s):\n",
    "    count = 0\n",
    "    word = False\n",
    "    for i in s:\n",
    "        if i.isalnum():\n",
    "            if not word:\n",
    "                count += 1\n",
    "                word = True\n",
    "        else:\n",
    "            word = False\n",
    "    return count\n",
    "\n",
    "stri = \"Hello guys, how are you\"\n",
    "print(countw(stri))"
   ]
  },
  {
   "cell_type": "markdown",
   "id": "6f0e9748-451c-40aa-80b7-bde2b2bac809",
   "metadata": {},
   "source": [
    "## 10.  Write a code to concatenate two strings without using the + operator"
   ]
  },
  {
   "cell_type": "code",
   "execution_count": 32,
   "id": "95ecae42-1f62-4aaa-94bc-f5b068439ae9",
   "metadata": {},
   "outputs": [],
   "source": [
    "# Using str.__add__()"
   ]
  },
  {
   "cell_type": "code",
   "execution_count": 34,
   "id": "0d9da95b-534e-4801-9699-05b9333a0773",
   "metadata": {},
   "outputs": [
    {
     "data": {
      "text/plain": [
       "'antimanakhat'"
      ]
     },
     "execution_count": 34,
     "metadata": {},
     "output_type": "execute_result"
    }
   ],
   "source": [
    "a = \"antima\"\n",
    "n = \"nakhat\"\n",
    "a.__add__(n)"
   ]
  },
  {
   "cell_type": "code",
   "execution_count": 35,
   "id": "c18f3a98-1320-44eb-89a3-ee93430a0901",
   "metadata": {},
   "outputs": [
    {
     "name": "stdout",
     "output_type": "stream",
     "text": [
      "antimanakhat\n"
     ]
    }
   ],
   "source": [
    "def conc(a,n):\n",
    "    return a.__add__(n)\n",
    "a1 = \"antima\"\n",
    "a2 = \"nakhat\"\n",
    "print(conc(a1,a2))"
   ]
  },
  {
   "cell_type": "code",
   "execution_count": null,
   "id": "e2009e5c-841e-4a36-9cad-df5270c6a8dd",
   "metadata": {},
   "outputs": [],
   "source": [
    "# Using str.join()"
   ]
  },
  {
   "cell_type": "code",
   "execution_count": 36,
   "id": "c92629c5-0ec5-49bf-a504-35bafa2dbfa1",
   "metadata": {},
   "outputs": [
    {
     "data": {
      "text/plain": [
       "'antimanakhat'"
      ]
     },
     "execution_count": 36,
     "metadata": {},
     "output_type": "execute_result"
    }
   ],
   "source": [
    "a = \"antima\"\n",
    "n = \"nakhat\"\n",
    "''.join([a,n])"
   ]
  },
  {
   "cell_type": "code",
   "execution_count": 37,
   "id": "8133e8ae-ecfb-42c1-a5b1-6db28edf07c9",
   "metadata": {},
   "outputs": [
    {
     "name": "stdout",
     "output_type": "stream",
     "text": [
      "antimanakhat\n"
     ]
    }
   ],
   "source": [
    "def con(a1,a2):\n",
    "    return ''.join([a1,a2])\n",
    "a = \"antima\"\n",
    "n = \"nakhat\"\n",
    "print(conc(a,n))"
   ]
  },
  {
   "cell_type": "code",
   "execution_count": null,
   "id": "4dbb41dd-6384-4146-9454-57bf94cc19cf",
   "metadata": {},
   "outputs": [],
   "source": [
    "# Using str.format()"
   ]
  },
  {
   "cell_type": "code",
   "execution_count": 38,
   "id": "6f03846b-1420-4252-a61c-f8f9c32ec4b2",
   "metadata": {},
   "outputs": [
    {
     "data": {
      "text/plain": [
       "'antimanakhat'"
      ]
     },
     "execution_count": 38,
     "metadata": {},
     "output_type": "execute_result"
    }
   ],
   "source": [
    "a = \"antima\"\n",
    "n = \"nakhat\"\n",
    "\"{}{}\".format(a,n)"
   ]
  },
  {
   "cell_type": "code",
   "execution_count": 39,
   "id": "d895d683-db5f-4795-a915-2b88c1d90be2",
   "metadata": {},
   "outputs": [
    {
     "name": "stdin",
     "output_type": "stream",
     "text": [
      "enter your first name: antima\n",
      "enter your last name: nakhat\n"
     ]
    },
    {
     "data": {
      "text/plain": [
       "'antimanakhat'"
      ]
     },
     "execution_count": 39,
     "metadata": {},
     "output_type": "execute_result"
    }
   ],
   "source": [
    "a = input(\"enter your first name:\")\n",
    "n = input(\"enter your last name:\")\n",
    "\"{}{}\".format(a,n)"
   ]
  },
  {
   "cell_type": "code",
   "execution_count": 40,
   "id": "4ac8419e-3581-48a0-856e-8b444e3bc35a",
   "metadata": {},
   "outputs": [
    {
     "data": {
      "text/plain": [
       "'antimanakhat'"
      ]
     },
     "execution_count": 40,
     "metadata": {},
     "output_type": "execute_result"
    }
   ],
   "source": [
    "# Using f-string\n",
    "\n",
    "a = \"antima\"\n",
    "n = \"nakhat\"\n",
    "f\"{a}{n}\""
   ]
  },
  {
   "cell_type": "markdown",
   "id": "dd62e955-7e6f-48f8-98a0-481d4ff37813",
   "metadata": {},
   "source": [
    "## 11. Write a code to remove all occurrences of a specific element from a list"
   ]
  },
  {
   "cell_type": "code",
   "execution_count": 29,
   "id": "19ed38bc-e97c-4ece-8e0a-6fc2e36ba19b",
   "metadata": {},
   "outputs": [
    {
     "name": "stdout",
     "output_type": "stream",
     "text": [
      "['antima', 22.5, 14]\n"
     ]
    }
   ],
   "source": [
    "# Using List Comprehension\n",
    "\n",
    "l = [\"antima\",22.5,14,5]\n",
    "[item for item in l if item != l]\n",
    "l.remove(5)\n",
    "print(l)"
   ]
  },
  {
   "cell_type": "code",
   "execution_count": 33,
   "id": "7b1f7b17-4fc1-4f4f-83d3-9d3903971427",
   "metadata": {},
   "outputs": [
    {
     "name": "stdout",
     "output_type": "stream",
     "text": [
      "['antima', 22.5, 5]\n"
     ]
    }
   ],
   "source": [
    "# Using filter()\n",
    "\n",
    "def occ(l,ele):\n",
    "    return list(filter(lambda x: x != ele, l))\n",
    "l = [\"antima\",22.5,14,5]\n",
    "l_rem = 14\n",
    "print(occ(l,l_rem))"
   ]
  },
  {
   "cell_type": "markdown",
   "id": "11079807-dd2d-48a1-b0db-dae78d8b65ab",
   "metadata": {},
   "source": [
    "## 12.  Implement a code to find the second largest number in a given list of integers."
   ]
  },
  {
   "cell_type": "code",
   "execution_count": 20,
   "id": "4f7122f6-4f5a-4a73-89f5-4ecb93a77cd1",
   "metadata": {},
   "outputs": [
    {
     "name": "stdout",
     "output_type": "stream",
     "text": [
      "195\n"
     ]
    }
   ],
   "source": [
    "# Using Sorting\n",
    "l = [55,222,88,79,1,195]\n",
    "uni = list(set(l)) # Remove duplicates by converting the list to a set and back to a list\n",
    "uni.sort()\n",
    "sec = uni[-2]\n",
    "print(sec)"
   ]
  },
  {
   "cell_type": "code",
   "execution_count": 22,
   "id": "8b37ede8-7106-4ab0-bdf0-5ba996aff29f",
   "metadata": {},
   "outputs": [
    {
     "name": "stdout",
     "output_type": "stream",
     "text": [
      "501\n"
     ]
    }
   ],
   "source": [
    "# Using List Comprehension and max()\n",
    "l =  [51,501,5001,11,111]\n",
    "larg =  max(l)\n",
    "sec = max([x for x in l if x != larg])\n",
    "print(sec)"
   ]
  },
  {
   "cell_type": "code",
   "execution_count": 18,
   "id": "10509779-16b5-46e0-91a8-f21e4c466ff6",
   "metadata": {
    "tags": []
   },
   "outputs": [
    {
     "name": "stdout",
     "output_type": "stream",
     "text": [
      "22\n"
     ]
    }
   ],
   "source": [
    "# Using a loop\n",
    "l = [5,6,20001,14,22]\n",
    "largest = sec = float('-inf')\n",
    "for i in l:\n",
    "    if i > largest:\n",
    "        sec = largest\n",
    "        largest = i\n",
    "    elif largest > i > sec:\n",
    "        sec = i\n",
    "print(sec)"
   ]
  },
  {
   "cell_type": "markdown",
   "id": "f6823b81-7714-49d2-89a5-07786257c7ca",
   "metadata": {},
   "source": [
    "float('-inf') is Useful:\n",
    "\n",
    "- Comparison Safety: Any number is guaranteed to be larger than negative infinity, ensuring the first comparison always succeeds.\n",
    "- Simplicity: It simplifies the logic by avoiding the need for special cases or additional checks to initialize the comparison.\n",
    "\n",
    "\n",
    "Alternative: Using None with Checks"
   ]
  },
  {
   "cell_type": "markdown",
   "id": "007bd9a0-5858-469f-9655-2a0a0afc5679",
   "metadata": {},
   "source": [
    "## 13. Create a code to count the occurrences of each element in a list and return a dictionary with elements as keys and their counts as values"
   ]
  },
  {
   "cell_type": "code",
   "execution_count": 24,
   "id": "df41d9c8-d46f-471e-bb37-2c66256a901c",
   "metadata": {},
   "outputs": [
    {
     "name": "stdout",
     "output_type": "stream",
     "text": [
      "{1: 5, 2: 10, 3: 1}\n"
     ]
    }
   ],
   "source": [
    "# Using a loop\n",
    "l = [1,2,1,2,1,2,2,2,2,2,2,2,2,1,1,3]\n",
    "dic = {}\n",
    "for i in l:\n",
    "    if i in dic:\n",
    "        dic[i] += 1\n",
    "    else:\n",
    "        dic[i] = 1\n",
    "print(dic)"
   ]
  },
  {
   "cell_type": "code",
   "execution_count": 26,
   "id": "fa0f7b24-2c76-4cac-88ee-a4e28207adaa",
   "metadata": {},
   "outputs": [
    {
     "name": "stdout",
     "output_type": "stream",
     "text": [
      "Counter({2: 6, 1: 4, 25: 1})\n"
     ]
    }
   ],
   "source": [
    "# Using collection.Counter\n",
    "from collections import Counter\n",
    "l = [1,2,1,2,1,2,2,2,2,1,25]\n",
    "dict = Counter(l)\n",
    "print(dict)"
   ]
  },
  {
   "cell_type": "markdown",
   "id": "72b5044d-098f-4b15-9e03-222ab92c96d7",
   "metadata": {},
   "source": [
    "## 14.  Write a code to reverse a list in-place without using any built-in reverse functions"
   ]
  },
  {
   "cell_type": "code",
   "execution_count": 29,
   "id": "88433df1-84cf-4416-ac1f-faad6fb8a5a6",
   "metadata": {},
   "outputs": [
    {
     "name": "stdout",
     "output_type": "stream",
     "text": [
      "[111, (5+3j), 89, 5, 14, 'antima']\n"
     ]
    }
   ],
   "source": [
    "# Using loop with indexing\n",
    "l = [\"antima\",14,5,89,5+3j,111]\n",
    "n = len(l)\n",
    "for i in range(n // 2):\n",
    "    l[i],l[n - i - 1] = l[n - i -1],l[i]\n",
    "print(l)"
   ]
  },
  {
   "cell_type": "markdown",
   "id": "96241f38-2672-47ef-b492-a6f7ae0c8d8a",
   "metadata": {},
   "source": [
    "## 15. Implement a code to find and remove duplicates from a list while preserving the original order of elements"
   ]
  },
  {
   "cell_type": "code",
   "execution_count": 31,
   "id": "3976041f-c47f-4325-a644-5ca2fd25f042",
   "metadata": {},
   "outputs": [
    {
     "name": "stdout",
     "output_type": "stream",
     "text": [
      "[1, 2, 23]\n"
     ]
    }
   ],
   "source": [
    "# Using a List and Set Comprehension\n",
    "\n",
    "l = [1,2,1,2,23,1,2,23,2]\n",
    "rem = set()\n",
    "res = [i for i in l if i not in rem and not rem.add(i)]\n",
    "print(res)"
   ]
  },
  {
   "cell_type": "code",
   "execution_count": 33,
   "id": "9d23075f-8f27-49f8-a561-7fb9d680851f",
   "metadata": {},
   "outputs": [
    {
     "name": "stdout",
     "output_type": "stream",
     "text": [
      "[1, 2, 51, 5, 12]\n"
     ]
    }
   ],
   "source": [
    "# Using a loop\n",
    "\n",
    "l = [1,2,51,1,2,5,12,1,5]\n",
    "res = []\n",
    "for i in l:\n",
    "    if i not in res:\n",
    "        res.append(i)\n",
    "print(res)"
   ]
  },
  {
   "cell_type": "markdown",
   "id": "7ef46dae-85d7-489f-b9a4-5a81a8aea0c9",
   "metadata": {},
   "source": [
    "## 16.  Create a code to check if a given list is sorted (either in ascending or descending order) or not"
   ]
  },
  {
   "cell_type": "code",
   "execution_count": 4,
   "id": "4637a24a-48b0-4d63-bd66-63fdc9c316ca",
   "metadata": {},
   "outputs": [
    {
     "name": "stdout",
     "output_type": "stream",
     "text": [
      "Ascending: False\n",
      "Descending: True\n"
     ]
    }
   ],
   "source": [
    "l = [5, 4, 3, 2, 1]\n",
    "asc =  l == sorted(l)\n",
    "des = l == sorted(l , reverse = True)\n",
    "\n",
    "print(\"Ascending:\" , asc)\n",
    "print(\"Descending:\" , des)\n"
   ]
  },
  {
   "cell_type": "code",
   "execution_count": 8,
   "id": "0b35c4ad-9c43-407b-ae6e-65ce24ec9e7f",
   "metadata": {},
   "outputs": [
    {
     "name": "stdout",
     "output_type": "stream",
     "text": [
      "Ascending: True\n",
      "Descending: False\n"
     ]
    }
   ],
   "source": [
    "l = [5,6,7,8,9]\n",
    "asc = True\n",
    "des = True\n",
    "for i in range (len(l) - 1):\n",
    "    if l [i] > l [i+1]:\n",
    "        asc = False\n",
    "    if l[i] < l [i+1]:\n",
    "        des = False\n",
    "\n",
    "print(\"Ascending:\" , asc)\n",
    "print(\"Descending:\" , des)"
   ]
  },
  {
   "cell_type": "markdown",
   "id": "a6da4b1f-6644-4a41-b02b-4cb05b8c73b1",
   "metadata": {},
   "source": [
    "## 17. Write a code to merge two sorted lists into a single sorted list."
   ]
  },
  {
   "cell_type": "code",
   "execution_count": 41,
   "id": "a486cf88-6cda-494a-84c7-8bd13bea2137",
   "metadata": {},
   "outputs": [
    {
     "name": "stdout",
     "output_type": "stream",
     "text": [
      "Sorted list: [1, 1, 1, 2, 2, 2, 2, 2, 2, 3, 3, 4, 5]\n"
     ]
    }
   ],
   "source": [
    "# Using sorted()\n",
    "\n",
    "l = [1,2,1,2,2,3]\n",
    "l2 =[2,2,2,1,3,4,5]\n",
    "l3= sorted(l+l2)\n",
    "print(\"Sorted list:\",l3)"
   ]
  },
  {
   "cell_type": "code",
   "execution_count": 42,
   "id": "99a01db3-e93d-4e9e-ac23-cfae22ccef0e",
   "metadata": {},
   "outputs": [
    {
     "name": "stdout",
     "output_type": "stream",
     "text": [
      "Sorted list: [1, 1, 2, 2, 3, 5, 5, 5, 6, 9]\n"
     ]
    }
   ],
   "source": [
    "# Using list.sort()\n",
    "\n",
    "u1 = [5, 2, 9, 1, 5, 6]\n",
    "u = [5,2,1,3]\n",
    "u3 = u1 + u\n",
    "u3.sort()\n",
    "print(\"Sorted list:\", u3)  "
   ]
  },
  {
   "cell_type": "markdown",
   "id": "dbba5101-0533-4179-8877-7ffeb59e1d5c",
   "metadata": {},
   "source": [
    "## 18.  Implement a code to find the intersection of two given lists"
   ]
  },
  {
   "cell_type": "code",
   "execution_count": 43,
   "id": "53b197e8-ecca-4e9c-9280-a52f7be83110",
   "metadata": {},
   "outputs": [
    {
     "name": "stdout",
     "output_type": "stream",
     "text": [
      "intersection : [3]\n"
     ]
    }
   ],
   "source": [
    "# Using Set Intersection\n",
    "l = [1,2,3]\n",
    "l2 =[3,4,5]\n",
    "inter = list(set(l) & set(l2))\n",
    "print(\"intersection :\", inter)"
   ]
  },
  {
   "cell_type": "code",
   "execution_count": 44,
   "id": "12c9aae4-576d-4e5f-a412-ea68a5ac0d89",
   "metadata": {},
   "outputs": [
    {
     "name": "stdout",
     "output_type": "stream",
     "text": [
      "intersection : [3]\n"
     ]
    }
   ],
   "source": [
    "# Using List Comprehension\n",
    "l = [1,2,3]\n",
    "l2 =[3,4,5]\n",
    "inter = [i for i in l if i in l2]\n",
    "print(\"intersection :\", inter)"
   ]
  },
  {
   "cell_type": "code",
   "execution_count": 30,
   "id": "b308a22d-e2e3-4929-9ea3-403d3cd9cd37",
   "metadata": {},
   "outputs": [
    {
     "name": "stdout",
     "output_type": "stream",
     "text": [
      "intersection : [3]\n"
     ]
    }
   ],
   "source": [
    "# Using filter() and lambda\n",
    "l = [1,2,3]\n",
    "l2 =[3,4,5]\n",
    "inter = list(filter(lambda x:x in l ,l2))\n",
    "print(\"intersection :\", inter)"
   ]
  },
  {
   "cell_type": "markdown",
   "id": "ff5ab249-a545-497d-a082-d7d27b4f22a8",
   "metadata": {},
   "source": [
    "## 19.  Create a code to find the union of two lists without duplicates"
   ]
  },
  {
   "cell_type": "code",
   "execution_count": 45,
   "id": "15b18572-d2e8-4df1-94e4-99e00cf2a1b5",
   "metadata": {},
   "outputs": [
    {
     "name": "stdout",
     "output_type": "stream",
     "text": [
      "Union : [1, 2, 3, 4, 5]\n"
     ]
    }
   ],
   "source": [
    "l = [1,2,3]\n",
    "l2 =[3,4,5]\n",
    "uni = list(set(l) | set(l2))\n",
    "print(\"Union :\", uni)"
   ]
  },
  {
   "cell_type": "code",
   "execution_count": 46,
   "id": "4c12a07d-7836-42de-9934-d7c1a1e2512a",
   "metadata": {},
   "outputs": [
    {
     "name": "stdout",
     "output_type": "stream",
     "text": [
      "Union : [1, 2, 3, 6, 7]\n"
     ]
    }
   ],
   "source": [
    "# Using Set Addition\n",
    "\n",
    "l = [1,2,3]\n",
    "l2 =[3,6,7]\n",
    "uni = list(set(l + l2))\n",
    "print(\"Union :\", uni)"
   ]
  },
  {
   "cell_type": "code",
   "execution_count": 14,
   "id": "33fad427-27ff-44db-b3a1-a8d2d3ab90b4",
   "metadata": {},
   "outputs": [
    {
     "name": "stdout",
     "output_type": "stream",
     "text": [
      "Union : [1, 2, 3, 8, 9]\n"
     ]
    }
   ],
   "source": [
    "# Using Set Union\n",
    "\n",
    "l = [1,2,3]\n",
    "l2 =[3,8,9]\n",
    "uni = list(set(l).union(set(l2)))\n",
    "print(\"Union :\", uni)"
   ]
  },
  {
   "cell_type": "markdown",
   "id": "a46158ea-e8ca-497d-8be3-9ca7823c07a7",
   "metadata": {},
   "source": [
    "## 20.  Write a code to shuffle a given list randomly without using any built-in shuffle functions"
   ]
  },
  {
   "cell_type": "code",
   "execution_count": 48,
   "id": "0256bfb5-ba76-439f-bdb4-3c004e63361b",
   "metadata": {},
   "outputs": [
    {
     "name": "stdout",
     "output_type": "stream",
     "text": [
      "[2, 4, 5, 1, 3]\n"
     ]
    }
   ],
   "source": [
    "import random\n",
    "def shuffle(l):\n",
    "    for i in range(len(l) - 1, 0, -1):\n",
    "        j = random.randint(0, i)\n",
    "        l[i], l[j] = l[j], l[i]\n",
    "    return l\n",
    "my_list = [1, 2, 3, 4, 5]\n",
    "shuffle(my_list)\n",
    "print(my_list)"
   ]
  },
  {
   "cell_type": "markdown",
   "id": "098c52a2-fbc8-4520-b6d1-05c62b9090b6",
   "metadata": {},
   "source": [
    "## 21. Write a code that takes two tuples as input and returns a new tuple containing elements that are common to both input tuples"
   ]
  },
  {
   "cell_type": "code",
   "execution_count": 50,
   "id": "2ee5b56d-dac6-42e1-a855-5c84c04cb69d",
   "metadata": {},
   "outputs": [
    {
     "name": "stdout",
     "output_type": "stream",
     "text": [
      "(3, 6)\n"
     ]
    }
   ],
   "source": [
    "t = (1,2,3,6)\n",
    "t2 =(3,6,7)\n",
    "com = tuple(set(t) & set(t2))\n",
    "print(com)"
   ]
  },
  {
   "cell_type": "markdown",
   "id": "83d870c8-ea25-4c2b-b2c9-6ce59d804088",
   "metadata": {},
   "source": [
    "## 22.  Create a code that prompts the user to enter two sets of integers separated by commas. Then, print the intersection of these two sets"
   ]
  },
  {
   "cell_type": "code",
   "execution_count": 52,
   "id": "db6ebaca-1c55-4a3f-9911-16283bffc6ac",
   "metadata": {
    "tags": []
   },
   "outputs": [
    {
     "name": "stdin",
     "output_type": "stream",
     "text": [
      "enter set one data: 5,6,8\n",
      "enter set two data: 5,3,1\n"
     ]
    },
    {
     "name": "stdout",
     "output_type": "stream",
     "text": [
      "{5}\n"
     ]
    }
   ],
   "source": [
    "s = set(map(int,input(\"enter set one data:\").split(',')))\n",
    "s2 = set(map(int,input(\"enter set two data:\").split(',')))\n",
    "s3 = s & s2\n",
    "print(s3)"
   ]
  },
  {
   "cell_type": "markdown",
   "id": "27e6dfcd-f6f0-424f-8c89-dab68b1ff5da",
   "metadata": {},
   "source": [
    "## 23. Write a code to concatenate two tuples. The function should take two tuples as input and return a new tuple containing elements from both input tuples."
   ]
  },
  {
   "cell_type": "code",
   "execution_count": 53,
   "id": "25d5324d-c86f-42aa-8c6f-7f4bfc7fb8e2",
   "metadata": {},
   "outputs": [
    {
     "name": "stdout",
     "output_type": "stream",
     "text": [
      "('antima', 14, 5, 'nakhat', 89, 111)\n"
     ]
    }
   ],
   "source": [
    "t = (\"antima\",14,5)\n",
    "t2 = (\"nakhat\",89,111)\n",
    "t3 = t +t2\n",
    "print(t3)    "
   ]
  },
  {
   "cell_type": "markdown",
   "id": "2e8b1508-abe4-4420-b450-68d6592375fe",
   "metadata": {},
   "source": [
    "## 24. Develop a code that prompts the user to input two sets of strings. Then, print the elements that are present in the first set but not in the second set."
   ]
  },
  {
   "cell_type": "code",
   "execution_count": 54,
   "id": "3cbf499d-45cf-44cb-8be0-6afbb956bc05",
   "metadata": {},
   "outputs": [
    {
     "name": "stdin",
     "output_type": "stream",
     "text": [
      "enter fisrt string: antima\n",
      "enter second string: nakhat\n"
     ]
    },
    {
     "name": "stdout",
     "output_type": "stream",
     "text": [
      "Elements in the first set but not in the second set: {'antima'}\n"
     ]
    }
   ],
   "source": [
    "s = input(\"enter fisrt string:\").split()\n",
    "s2 = input(\"enter second string:\").split()\n",
    "se1 = set(s)\n",
    "se2 = set(s2)\n",
    "infirst = se1 - se2\n",
    "print(\"Elements in the first set but not in the second set:\",infirst)"
   ]
  },
  {
   "cell_type": "code",
   "execution_count": 18,
   "id": "d7f194b1-b6c0-4d1f-9843-22560d64d212",
   "metadata": {},
   "outputs": [
    {
     "data": {
      "text/plain": [
       "'s = input(\"enter fisrt string:\")\\ns2 = input(\"enter second string:\")\\nprint(s)'"
      ]
     },
     "execution_count": 18,
     "metadata": {},
     "output_type": "execute_result"
    }
   ],
   "source": [
    "\"\"\"s = input(\"enter fisrt string:\")\n",
    "s2 = input(\"enter second string:\")\n",
    "print(s)\"\"\""
   ]
  },
  {
   "cell_type": "markdown",
   "id": "3d8f20a8-39d5-447d-a194-9841b3adb403",
   "metadata": {},
   "source": [
    "## 25. Create a code that takes a tuple and two integers as input. The function should return a new tuple containing elements from the original tuple within the specified range of indices"
   ]
  },
  {
   "cell_type": "code",
   "execution_count": 13,
   "id": "3ebc1eeb-44af-4159-8eaa-f7e37bb77649",
   "metadata": {},
   "outputs": [
    {
     "name": "stdout",
     "output_type": "stream",
     "text": [
      "original tuple within the specified range of indicies: (' index2 : 2', ' index3 : 1')\n"
     ]
    }
   ],
   "source": [
    "t = (1,2,2,1,3,4,5,9,2,3,8,9,1)\n",
    "ind1 = 2\n",
    "ind2 = 4\n",
    "list1 = []\n",
    "for i in range(ind1, ind2):\n",
    "    list1.append(f\" index{i} : {t[i]}\")\n",
    "new_t = tuple(list1)\n",
    "print(\"original tuple within the specified range of indicies:\" , new_t)\n"
   ]
  },
  {
   "cell_type": "markdown",
   "id": "25a3ec28-1bcb-4446-b859-1c3d01652ea5",
   "metadata": {},
   "source": [
    "## 26. Write a code that prompts the user to input two sets of characters. Then, print the union of these two sets"
   ]
  },
  {
   "cell_type": "code",
   "execution_count": 60,
   "id": "6156ab58-0822-46a5-99cb-981966455ac0",
   "metadata": {},
   "outputs": [
    {
     "name": "stdin",
     "output_type": "stream",
     "text": [
      "enter fisrt string: antima\n",
      "enter second string: nakhat\n"
     ]
    },
    {
     "name": "stdout",
     "output_type": "stream",
     "text": [
      "{'m', 'h', 'n', 'i', 'k', 't', 'a'}\n"
     ]
    }
   ],
   "source": [
    "s = (input(\"enter fisrt string:\"))\n",
    "s2 = (input(\"enter second string:\"))\n",
    "se1 = set(s)\n",
    "se2 = set(s2)\n",
    "uni = se2 | se1\n",
    "print(uni)"
   ]
  },
  {
   "cell_type": "markdown",
   "id": "ab7b8b67-981a-40b7-9b96-6720a9ed8648",
   "metadata": {
    "tags": []
   },
   "source": [
    "## 27.  Develop a code that takes a tuple of integers as input. The function should return the maximum and minimum values from the tuple using tuple unpacking."
   ]
  },
  {
   "cell_type": "code",
   "execution_count": 61,
   "id": "5d2db076-28a4-4c3c-8e93-2896dbb10433",
   "metadata": {},
   "outputs": [
    {
     "name": "stdin",
     "output_type": "stream",
     "text": [
      "enter a tuple of integers: 55,99,11,111\n"
     ]
    },
    {
     "name": "stdout",
     "output_type": "stream",
     "text": [
      "maximum and minimum values: (111, 11)\n"
     ]
    }
   ],
   "source": [
    "s = input(\"enter a tuple of integers:\")\n",
    "ci = s.replace(\",\" , \" \")\n",
    "ti = tuple(map(int,ci.split()))\n",
    "maxv = max(ti)\n",
    "minv = min(ti)\n",
    "res = (maxv,minv)\n",
    "print(\"maximum and minimum values:\",res)"
   ]
  },
  {
   "cell_type": "markdown",
   "id": "adec8413-50be-4d32-9a5c-9b9287893630",
   "metadata": {},
   "source": [
    "## 28. Create a code that defines two sets of integers. Then, print the union, intersection, and difference of these two sets"
   ]
  },
  {
   "cell_type": "code",
   "execution_count": 62,
   "id": "9802ee6c-1fbf-4200-9462-b398105e5420",
   "metadata": {},
   "outputs": [
    {
     "name": "stdout",
     "output_type": "stream",
     "text": [
      "{5, 6, 7, 8, 9}\n",
      "{7}\n",
      "{5, 6}\n"
     ]
    }
   ],
   "source": [
    "s1 = {5,6,7}\n",
    "s2 = {7,8,9}\n",
    "print( s1 | s2) # Union\n",
    "print( s1 & s2) # Intersection\n",
    "print( s1 - s2) #Difference"
   ]
  },
  {
   "cell_type": "markdown",
   "id": "8ee83971-187d-49ea-871a-2a001aa596d8",
   "metadata": {},
   "source": [
    "## 29.  Write a code that takes a tuple and an element as input. The function should return the count of occurrences of the given element in the tuple"
   ]
  },
  {
   "cell_type": "code",
   "execution_count": 12,
   "id": "48b99dca-8163-426a-bd56-8e909678afe7",
   "metadata": {},
   "outputs": [
    {
     "name": "stdin",
     "output_type": "stream",
     "text": [
      "Enter the elements of tuple,seprated by space or commas: 14 5 antima antima 5 5  5\n",
      "enter the element to count: 5\n"
     ]
    },
    {
     "name": "stdout",
     "output_type": "stream",
     "text": [
      "The element '5' occurs 4 times in the tuple.\n"
     ]
    }
   ],
   "source": [
    "t = input(\"Enter the elements of tuple,seprated by space or commas:\")\n",
    "ci = t.replace(',',\" \")\n",
    "ti = tuple(ci.split())\n",
    "ele = input(\"enter the element to count:\")\n",
    "count = ti.count(ele)\n",
    "print(f\"The element '{ele}' occurs {count} times in the tuple.\")\n"
   ]
  },
  {
   "cell_type": "markdown",
   "id": "5f09c22c-7d6a-4e6c-b455-3359f9d50040",
   "metadata": {},
   "source": [
    "## 30. Develop a code that prompts the user to input two sets of strings. Then, print the symmetric difference of these two sets"
   ]
  },
  {
   "cell_type": "code",
   "execution_count": 17,
   "id": "8fcc3519-0777-40fb-ace9-cb11dfb73d94",
   "metadata": {},
   "outputs": [
    {
     "name": "stdin",
     "output_type": "stream",
     "text": [
      "enter first string: antima\n",
      "enter second string: nakhat\n"
     ]
    },
    {
     "name": "stdout",
     "output_type": "stream",
     "text": [
      "['h', 'i', 'k', 'm']\n"
     ]
    }
   ],
   "source": [
    "s1 = set(input(\"enter first string:\"))\n",
    "s2 = set(input(\"enter second string:\"))\n",
    "sd = s1^s2\n",
    "res = sorted(sd)\n",
    "print(res)"
   ]
  },
  {
   "cell_type": "markdown",
   "id": "d01e61e0-4559-4494-999f-e352826feb35",
   "metadata": {},
   "source": [
    "## 31.  Write a code that takes a list of words as input and returns a dictionary where the keys are unique words and the values are the frequencies of those words in the input list"
   ]
  },
  {
   "cell_type": "code",
   "execution_count": 18,
   "id": "002e33ef-cbe6-4c4d-b5c7-1bfc13ae93eb",
   "metadata": {},
   "outputs": [
    {
     "name": "stdin",
     "output_type": "stream",
     "text": [
      "Enter a list of words, separated by spaces:  apple banana apple mango\n"
     ]
    },
    {
     "name": "stdout",
     "output_type": "stream",
     "text": [
      "Word frequencies: {'apple': 2, 'banana': 1, 'mango': 1}\n"
     ]
    }
   ],
   "source": [
    "w = input(\"Enter a list of words, separated by spaces: \").split()\n",
    "w_fre = {}\n",
    "for ws in w:\n",
    "    if ws in w_fre:\n",
    "        w_fre[ws] += 1\n",
    "    else:\n",
    "        w_fre[ws] = 1\n",
    "print(\"Word frequencies:\",w_fre)"
   ]
  },
  {
   "cell_type": "markdown",
   "id": "44231c86-0082-47b3-aac7-872eafc17597",
   "metadata": {},
   "source": [
    "## 32. Write a code that takes two dictionaries as input and merges them into a single dictionary. If there are common keys, the values should be added together"
   ]
  },
  {
   "cell_type": "code",
   "execution_count": 21,
   "id": "30ff9a75-b521-4e79-8b09-0e39f45c904f",
   "metadata": {},
   "outputs": [
    {
     "name": "stdin",
     "output_type": "stream",
     "text": [
      "Enter the first dictionary(e.g. a:1 b:5): a:9 b:5 c:1\n",
      "Enter the second dictionary: a:7 b:4 d:3\n"
     ]
    },
    {
     "name": "stdout",
     "output_type": "stream",
     "text": [
      "Merged dictionary: {'a': 16, 'b': 9, 'c': 1, 'd': 3}\n"
     ]
    }
   ],
   "source": [
    "d1 = input(\"Enter the first dictionary(e.g. a:1 b:5):\").split()\n",
    "d11 = {}\n",
    "for i in d1:\n",
    "    key,val = i.split(\":\")\n",
    "    d11[key] = int(val)\n",
    "    \n",
    "d2 = input(\"Enter the second dictionary:\").split()\n",
    "d22 = {}\n",
    "for i in d2:\n",
    "    key,val = i.split(\":\")\n",
    "    d22[key] = int(val)\n",
    "    \n",
    "merg_dic = d11.copy()\n",
    "for key,val in d22.items():\n",
    "    if key in merg_dic:\n",
    "        merg_dic[key] += val\n",
    "    else:\n",
    "        merg_dic[key] = val\n",
    "print(\"Merged dictionary:\",merg_dic)"
   ]
  },
  {
   "cell_type": "markdown",
   "id": "88b3c920-6027-431e-9a6d-b34949af55cd",
   "metadata": {},
   "source": [
    "## 33.  Write a code to access a value in a nested dictionary. The function should take the dictionary and a list of keys as input, and return the corresponding value. If any of the keys do not exist in the dictionary, the function should return None"
   ]
  },
  {
   "cell_type": "code",
   "execution_count": 5,
   "id": "fa462b8a-6e30-43db-9faf-f823115ca087",
   "metadata": {},
   "outputs": [
    {
     "name": "stdin",
     "output_type": "stream",
     "text": [
      "Enter the list of keys separated by spaces (e.g., 'a b c'):  a b c\n"
     ]
    },
    {
     "name": "stdout",
     "output_type": "stream",
     "text": [
      "The corresponding value is: 101\n"
     ]
    }
   ],
   "source": [
    "nest_dict = {'a': {'b': {'c': 101}},'x': { 'y': 202 }}\n",
    "keys = input(\"Enter the list of keys separated by spaces (e.g., 'a b c'): \").split()\n",
    "\n",
    "def get_nested_val(d, key_list):\n",
    "    current_level = d\n",
    "    for key in key_list:\n",
    "        if key in current_level:\n",
    "            current_level = current_level[key]\n",
    "        else:\n",
    "            return None\n",
    "    return current_level\n",
    "result = get_nested_val(nest_dict, keys)\n",
    "print(\"The corresponding value is:\", result)"
   ]
  },
  {
   "cell_type": "markdown",
   "id": "661ed955-921b-4654-9ba4-6d788ea29527",
   "metadata": {},
   "source": [
    "## 34.  Write a code that takes a dictionary as input and returns a sorted version of it based on the values. You can choose whether to sort in ascending or descending order"
   ]
  },
  {
   "cell_type": "code",
   "execution_count": 14,
   "id": "afdb5ab5-60d6-46e3-b504-155f74e92d3a",
   "metadata": {},
   "outputs": [
    {
     "name": "stdin",
     "output_type": "stream",
     "text": [
      "Enter 'ascen' for ascending or 'descen' for descending order:  ascen\n"
     ]
    },
    {
     "name": "stdout",
     "output_type": "stream",
     "text": [
      "Sorted dictionary: {'mango': 5, 'cherry': 8, 'apple': 9, 'date': 11}\n"
     ]
    }
   ],
   "source": [
    "d = { \"apple\":9, \"cherry\":8, \"mango\":5, \"date\":11}\n",
    "sort_ord = input(\"Enter 'ascen' for ascending or 'descen' for descending order: \").strip().lower()\n",
    "if sort_ord == \"ascen\":\n",
    "    sort_d = dict(sorted(d.items(), key = lambda i:i[1]))\n",
    "elif sort_ord == \"descen\":\n",
    "    sort_d = dict(sorted(d.items(), key = lambda i:i[1] , reverse = True))\n",
    "else:\n",
    "    sort_d = dict(sorted(d.items(), key = lambda i:i[1]))\n",
    "print(\"Sorted dictionary:\",sort_d)"
   ]
  },
  {
   "cell_type": "markdown",
   "id": "6f0d1d04-2bda-4e5b-a781-f87ab2248921",
   "metadata": {},
   "source": [
    "## 35.  Write a code that inverts a dictionary, swapping keys and values. Ensure that the inverted dictionary correctly handles cases where multiple keys have the same value by storing the keys as a list in the inverted dictionary"
   ]
  },
  {
   "cell_type": "code",
   "execution_count": 15,
   "id": "d9e9741d-2ce3-4901-99bf-340ba347ba50",
   "metadata": {},
   "outputs": [
    {
     "name": "stdout",
     "output_type": "stream",
     "text": [
      "Inverted dictionary: {2: ['Hair Mask', 'Hair Mousse '], 1: ['Hair Gel'], 4: ['Conditioner '], 5: ['Shampoo']}\n"
     ]
    }
   ],
   "source": [
    "d = { \"Hair Mask\": 2, \"Hair Gel\": 1, \"Hair Mousse \":2, \"Conditioner \":4, \"Shampoo\":5}\n",
    "inv_d = {}\n",
    "for key, val in d.items():\n",
    "    if val in inv_d:\n",
    "        inv_d[val].append(key)\n",
    "    else:\n",
    "        inv_d[val] = [key]\n",
    "print(\"Inverted dictionary:\",inv_d)"
   ]
  }
 ],
 "metadata": {
  "kernelspec": {
   "display_name": "Python 3 (ipykernel)",
   "language": "python",
   "name": "python3"
  },
  "language_info": {
   "codemirror_mode": {
    "name": "ipython",
    "version": 3
   },
   "file_extension": ".py",
   "mimetype": "text/x-python",
   "name": "python",
   "nbconvert_exporter": "python",
   "pygments_lexer": "ipython3",
   "version": "3.10.8"
  }
 },
 "nbformat": 4,
 "nbformat_minor": 5
}
